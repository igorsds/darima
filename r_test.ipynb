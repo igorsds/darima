{
 "cells": [
  {
   "cell_type": "code",
   "execution_count": 4,
   "metadata": {},
   "outputs": [],
   "source": [
    "import rpy2.situation\n",
    "import rpy2"
   ]
  },
  {
   "cell_type": "code",
   "execution_count": 5,
   "metadata": {},
   "outputs": [
    {
     "data": {
      "text/plain": [
       "'3.5.14'"
      ]
     },
     "execution_count": 5,
     "metadata": {},
     "output_type": "execute_result"
    }
   ],
   "source": [
    "rpy2.__version__"
   ]
  },
  {
   "cell_type": "code",
   "execution_count": 6,
   "metadata": {},
   "outputs": [
    {
     "name": "stdout",
     "output_type": "stream",
     "text": [
      "rpy2 version:\n",
      "3.5.14\n",
      "Python version:\n",
      "3.11.5 | packaged by Anaconda, Inc. | (main, Sep 11 2023, 13:26:23) [MSC v.1916 64 bit (AMD64)]\n",
      "Looking for R's HOME:\n",
      "    Environment variable R_HOME: C:\\Program Files\\R\\R-4.3.2\n",
      "    InstallPath in the registry: C:\\Program Files\\R\\R-4.3.2\n",
      "    Environment variable R_USER: C:\\ProgramData\\Anaconda3\\envs\\python3115\\Lib\\site-packages\\rpy2\n",
      "    Environment variable R_LIBS_USER: None\n",
      "R version:\n",
      "    In the PATH: R version 4.3.2 (2023-10-31 ucrt) -- \"Eye Holes\"\n",
      "    Loading R library from rpy2: OK\n",
      "Additional directories to load R packages from:\n",
      "None\n",
      "C extension compilation:\n",
      "    Warning: Unable to get R compilation flags.\n",
      "Directory for the R shared library:\n"
     ]
    },
    {
     "ename": "CalledProcessError",
     "evalue": "Command '('C:\\\\Program Files\\\\R\\\\R-4.3.2\\\\bin\\\\x64\\\\R', 'CMD', 'config', 'LIBnn')' returned non-zero exit status 1.",
     "output_type": "error",
     "traceback": [
      "\u001b[1;31m---------------------------------------------------------------------------\u001b[0m",
      "\u001b[1;31mCalledProcessError\u001b[0m                        Traceback (most recent call last)",
      "Cell \u001b[1;32mIn[6], line 1\u001b[0m\n\u001b[1;32m----> 1\u001b[0m \u001b[38;5;28;01mfor\u001b[39;00m row \u001b[38;5;129;01min\u001b[39;00m rpy2\u001b[38;5;241m.\u001b[39msituation\u001b[38;5;241m.\u001b[39miter_info():\n\u001b[0;32m      2\u001b[0m     \u001b[38;5;28mprint\u001b[39m(row)\n",
      "File \u001b[1;32mc:\\ProgramData\\Anaconda3\\envs\\python3115\\Lib\\site-packages\\rpy2\\situation.py:454\u001b[0m, in \u001b[0;36miter_info\u001b[1;34m()\u001b[0m\n\u001b[0;32m    451\u001b[0m         \u001b[38;5;28;01myield\u001b[39;00m (\u001b[38;5;124m'\u001b[39m\u001b[38;5;124m    Warning: Unable to get R compilation flags.\u001b[39m\u001b[38;5;124m'\u001b[39m)\n\u001b[0;32m    453\u001b[0m \u001b[38;5;28;01myield\u001b[39;00m \u001b[38;5;124m'\u001b[39m\u001b[38;5;124mDirectory for the R shared library:\u001b[39m\u001b[38;5;124m'\u001b[39m\n\u001b[1;32m--> 454\u001b[0m \u001b[38;5;28;01myield\u001b[39;00m get_r_libnn(r_home)\n\u001b[0;32m    456\u001b[0m \u001b[38;5;28;01myield\u001b[39;00m make_bold(\u001b[38;5;124m'\u001b[39m\u001b[38;5;124mCFFI extension type\u001b[39m\u001b[38;5;124m'\u001b[39m)\n\u001b[0;32m    457\u001b[0m \u001b[38;5;28;01myield\u001b[39;00m \u001b[38;5;124mf\u001b[39m\u001b[38;5;124m'\u001b[39m\u001b[38;5;124m  Environment variable: \u001b[39m\u001b[38;5;132;01m{\u001b[39;00mENVVAR_CFFI_TYPE\u001b[38;5;132;01m}\u001b[39;00m\u001b[38;5;124m'\u001b[39m\n",
      "File \u001b[1;32mc:\\ProgramData\\Anaconda3\\envs\\python3115\\Lib\\site-packages\\rpy2\\situation.py:263\u001b[0m, in \u001b[0;36mget_r_libnn\u001b[1;34m(r_home)\u001b[0m\n\u001b[0;32m    262\u001b[0m \u001b[38;5;28;01mdef\u001b[39;00m \u001b[38;5;21mget_r_libnn\u001b[39m(r_home: \u001b[38;5;28mstr\u001b[39m):\n\u001b[1;32m--> 263\u001b[0m     \u001b[38;5;28;01mreturn\u001b[39;00m _get_r_cmd_config(r_home, \u001b[38;5;124m'\u001b[39m\u001b[38;5;124mLIBnn\u001b[39m\u001b[38;5;124m'\u001b[39m,\n\u001b[0;32m    264\u001b[0m                              allow_empty\u001b[38;5;241m=\u001b[39m\u001b[38;5;28;01mFalse\u001b[39;00m)[\u001b[38;5;241m0\u001b[39m]\n",
      "File \u001b[1;32mc:\\ProgramData\\Anaconda3\\envs\\python3115\\Lib\\site-packages\\rpy2\\situation.py:246\u001b[0m, in \u001b[0;36m_get_r_cmd_config\u001b[1;34m(r_home, about, allow_empty)\u001b[0m\n\u001b[0;32m    244\u001b[0m cmd \u001b[38;5;241m=\u001b[39m (r_exec, \u001b[38;5;124m'\u001b[39m\u001b[38;5;124mCMD\u001b[39m\u001b[38;5;124m'\u001b[39m, \u001b[38;5;124m'\u001b[39m\u001b[38;5;124mconfig\u001b[39m\u001b[38;5;124m'\u001b[39m, about)\n\u001b[0;32m    245\u001b[0m logger\u001b[38;5;241m.\u001b[39mdebug(\u001b[38;5;124m'\u001b[39m\u001b[38;5;124mLooking for R CONFIG with: \u001b[39m\u001b[38;5;132;01m{}\u001b[39;00m\u001b[38;5;124m'\u001b[39m\u001b[38;5;241m.\u001b[39mformat(\u001b[38;5;124m'\u001b[39m\u001b[38;5;124m \u001b[39m\u001b[38;5;124m'\u001b[39m\u001b[38;5;241m.\u001b[39mjoin(cmd)))\n\u001b[1;32m--> 246\u001b[0m output \u001b[38;5;241m=\u001b[39m subprocess\u001b[38;5;241m.\u001b[39mcheck_output(\n\u001b[0;32m    247\u001b[0m     cmd,\n\u001b[0;32m    248\u001b[0m     universal_newlines\u001b[38;5;241m=\u001b[39m\u001b[38;5;28;01mTrue\u001b[39;00m\n\u001b[0;32m    249\u001b[0m )\u001b[38;5;241m.\u001b[39msplit(os\u001b[38;5;241m.\u001b[39mlinesep)\n\u001b[0;32m    250\u001b[0m \u001b[38;5;66;03m# Twist if 'R RHOME' spits out a warning\u001b[39;00m\n\u001b[0;32m    251\u001b[0m \u001b[38;5;28;01mif\u001b[39;00m output[\u001b[38;5;241m0\u001b[39m]\u001b[38;5;241m.\u001b[39mstartswith(\u001b[38;5;124m'\u001b[39m\u001b[38;5;124mWARNING\u001b[39m\u001b[38;5;124m'\u001b[39m):\n",
      "File \u001b[1;32mc:\\ProgramData\\Anaconda3\\envs\\python3115\\Lib\\subprocess.py:466\u001b[0m, in \u001b[0;36mcheck_output\u001b[1;34m(timeout, *popenargs, **kwargs)\u001b[0m\n\u001b[0;32m    463\u001b[0m         empty \u001b[38;5;241m=\u001b[39m \u001b[38;5;124mb\u001b[39m\u001b[38;5;124m'\u001b[39m\u001b[38;5;124m'\u001b[39m\n\u001b[0;32m    464\u001b[0m     kwargs[\u001b[38;5;124m'\u001b[39m\u001b[38;5;124minput\u001b[39m\u001b[38;5;124m'\u001b[39m] \u001b[38;5;241m=\u001b[39m empty\n\u001b[1;32m--> 466\u001b[0m \u001b[38;5;28;01mreturn\u001b[39;00m run(\u001b[38;5;241m*\u001b[39mpopenargs, stdout\u001b[38;5;241m=\u001b[39mPIPE, timeout\u001b[38;5;241m=\u001b[39mtimeout, check\u001b[38;5;241m=\u001b[39m\u001b[38;5;28;01mTrue\u001b[39;00m,\n\u001b[0;32m    467\u001b[0m            \u001b[38;5;241m*\u001b[39m\u001b[38;5;241m*\u001b[39mkwargs)\u001b[38;5;241m.\u001b[39mstdout\n",
      "File \u001b[1;32mc:\\ProgramData\\Anaconda3\\envs\\python3115\\Lib\\subprocess.py:571\u001b[0m, in \u001b[0;36mrun\u001b[1;34m(input, capture_output, timeout, check, *popenargs, **kwargs)\u001b[0m\n\u001b[0;32m    569\u001b[0m     retcode \u001b[38;5;241m=\u001b[39m process\u001b[38;5;241m.\u001b[39mpoll()\n\u001b[0;32m    570\u001b[0m     \u001b[38;5;28;01mif\u001b[39;00m check \u001b[38;5;129;01mand\u001b[39;00m retcode:\n\u001b[1;32m--> 571\u001b[0m         \u001b[38;5;28;01mraise\u001b[39;00m CalledProcessError(retcode, process\u001b[38;5;241m.\u001b[39margs,\n\u001b[0;32m    572\u001b[0m                                  output\u001b[38;5;241m=\u001b[39mstdout, stderr\u001b[38;5;241m=\u001b[39mstderr)\n\u001b[0;32m    573\u001b[0m \u001b[38;5;28;01mreturn\u001b[39;00m CompletedProcess(process\u001b[38;5;241m.\u001b[39margs, retcode, stdout, stderr)\n",
      "\u001b[1;31mCalledProcessError\u001b[0m: Command '('C:\\\\Program Files\\\\R\\\\R-4.3.2\\\\bin\\\\x64\\\\R', 'CMD', 'config', 'LIBnn')' returned non-zero exit status 1."
     ]
    }
   ],
   "source": [
    "for row in rpy2.situation.iter_info():\n",
    "    print(row)"
   ]
  }
 ],
 "metadata": {
  "kernelspec": {
   "display_name": "python3115",
   "language": "python",
   "name": "python3"
  },
  "language_info": {
   "codemirror_mode": {
    "name": "ipython",
    "version": 3
   },
   "file_extension": ".py",
   "mimetype": "text/x-python",
   "name": "python",
   "nbconvert_exporter": "python",
   "pygments_lexer": "ipython3",
   "version": "3.11.5"
  }
 },
 "nbformat": 4,
 "nbformat_minor": 2
}
